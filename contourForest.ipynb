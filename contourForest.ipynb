{
 "cells": [
  {
   "cell_type": "code",
   "execution_count": 84,
   "metadata": {},
   "outputs": [],
   "source": [
    "import cv2\n",
    "import pandas as pd\n",
    "import numpy as np\n",
    "import matplotlib.pyplot as plt\n",
    "\n",
    "#CSV file with the coordinates of the RF towers\n",
    "DATACSV = \"towerConfig.csv\""
   ]
  },
  {
   "cell_type": "markdown",
   "metadata": {},
   "source": []
  },
  {
   "cell_type": "code",
   "execution_count": 85,
   "metadata": {},
   "outputs": [],
   "source": [
    "#Node class stores the attributes of the fire tower\n",
    "#The location of the tower in cartesian coordinates are the relevant attributes \n",
    "class Node:\n",
    "    def __init__(self, x_coord, y_coord):\n",
    "        self.x_coord = x_coord\n",
    "        self.y_coord = y_coord\n",
    "\n",
    "#The path class stores the attributes of a path between two arbitrary nodes\n",
    "#The slope of the path M and the y intercept B are the relevant attributes\n",
    "class Path:\n",
    "    def __init__(self, node1, node2):\n",
    "        self.node1 = node1\n",
    "        self.node2 = node2\n",
    "\n",
    "        #Finding the slope of line connecting the two nodes\n",
    "        dy = self.node2.y_coord - self.node1.y_coord\n",
    "        dx = self.node2.x_coord - self.node1.x_coord\n",
    "\n",
    "        #finding the path length\n",
    "        self.length = (dy**2 + dx**2)**0.5\n",
    "\n",
    "        #Edge case: infinite slope\n",
    "        if dx == 0:\n",
    "            if dy >= 0:\n",
    "                self.slope = float(\"inf\")\n",
    "            else:\n",
    "                self.slope = float(\"-inf\")\n",
    "        #Normal case\n",
    "        else:\n",
    "            self.slope = dy/dx\n",
    "        \n",
    "        #Finding the y_intercept of the line connecting the two nodes\n",
    "        #Edge case: infinite slope\n",
    "        if self.slope == float(\"inf\") or self.slope == float(\"-inf\"):\n",
    "            self.y_int = None\n",
    "        #Normal case\n",
    "        else:\n",
    "            self.y_int = node1.y_coord - self.slope*node1.x_coord\n",
    "\n",
    "#The contour of the forest defined by x-y coordinates of towers along its perimeter\n",
    "contour = np.array([])\n",
    "\n",
    "#The towers along the contour of the forest\n",
    "nodes = np.array([])\n",
    "\n",
    "#Valid paths between nodes\n",
    "paths = np.array([])\n",
    "\n",
    "#The intersection points between nodes\n",
    "x_intersects = np.array([])\n",
    "y_intersects = np.array([])"
   ]
  },
  {
   "cell_type": "markdown",
   "metadata": {},
   "source": []
  },
  {
   "cell_type": "code",
   "execution_count": 86,
   "metadata": {},
   "outputs": [],
   "source": [
    "#Check if a path overlaps a given node\n",
    "def pathOverlaps(path, node):\n",
    "    \n",
    "    #Edge case: parent node\n",
    "    if path.node1 == node or path.node2 == node:\n",
    "        return False\n",
    "\n",
    "    #Edge case: zero slope\n",
    "    if path.slope == 0:\n",
    "        if path.y_int == node.y_coord:\n",
    "            return True\n",
    "        else:\n",
    "            return False\n",
    "    \n",
    "    #Edge case: infinite slope\n",
    "    if path.slope == float(\"inf\") or path.slope == float(\"-inf\"):\n",
    "        if path.node1.x_coord == node.x_coord:\n",
    "            return True\n",
    "        else:\n",
    "            return False\n",
    "    \n",
    "    #Main case\n",
    "    #Compare x and y coordinates\n",
    "    y_coord = node.y_coord\n",
    "    x_coord = (y_coord - path.y_int)/path.slope\n",
    "    if (x_coord == node.x_coord):\n",
    "        return True\n",
    "    else:\n",
    "        return False\n",
    "\n",
    "#Check if two non-parallel paths intersect within the contour\n",
    "def pathsIntersect(path1, path2):\n",
    "\n",
    "    #Coordinates of point of intersection\n",
    "    x_intersect = 0\n",
    "    y_intersect = 0\n",
    "\n",
    "    #Edge case: both paths have infinite slope\n",
    "    if (path1.slope == float(\"inf\") or path1.slope == float(\"-inf\")) and (path2.slope == float(\"inf\") or path2.slope == float(\"-inf\")):\n",
    "        return False, None, None\n",
    "    \n",
    "    #Edge case: both paths have the same slope\n",
    "    elif (path1.slope == path2.slope):\n",
    "        return False, None, None\n",
    "    \n",
    "    #Edge case: one path has infinite slope\n",
    "    elif (path1.slope == float(\"inf\") or path1.slope == float(\"-inf\")):\n",
    "        x_intersect = path1.node1.x_coord\n",
    "        y_intersect = path2.slope*x_intersect + path2.y_int\n",
    "    \n",
    "    elif (path2.slope == float(\"inf\") or path2.slope == float(\"-inf\")):\n",
    "        x_intersect = path2.node1.x_coord\n",
    "        y_intersect = path1.slope*x_intersect + path1.y_int\n",
    "    \n",
    "    #Find the x and y values of the point of intersection\n",
    "    else:\n",
    "        x_intersect = (path2.y_int - path1.y_int)/(path1.slope - path2.slope)\n",
    "        y_intersect = path1.slope*x_intersect + path1.y_int\n",
    "\n",
    "    #Determine if the points of intersection are within bounds\n",
    "    dist = cv2.pointPolygonTest(contour, (int(x_intersect), int(y_intersect)), True)\n",
    "\n",
    "    if dist >= 0:\n",
    "        return True, x_intersect, y_intersect\n",
    "    else:\n",
    "        return False, None, None"
   ]
  },
  {
   "cell_type": "markdown",
   "metadata": {},
   "source": [
    "### Processing"
   ]
  },
  {
   "cell_type": "code",
   "execution_count": 87,
   "metadata": {},
   "outputs": [],
   "source": [
    "data = pd.read_csv(\"towerConfig.csv\")\n",
    "tower_x_coords = data[\"x_coord\"]\n",
    "tower_y_coords = data[\"y_coord\"]\n",
    "\n",
    "#Create contour\n",
    "contour = np.array([[tower_x_coords[i], tower_y_coords[i]] for i in range(len(tower_x_coords))])\n",
    "\n",
    "#Create nodes\n",
    "nodes = np.array([Node(tower_x_coords[i], tower_y_coords[i]) for i in range(len(tower_x_coords))])\n",
    "\n",
    "#Initialize paths \n",
    "allPaths = np.array([])\n",
    "for node1 in nodes:\n",
    "    for node2 in nodes:\n",
    "        if node1 == node2:\n",
    "            continue\n",
    "        else:\n",
    "            allPaths = np.append(allPaths, Path(node1, node2))\n",
    "\n",
    "#Check validity of paths and create intersects\n",
    "for path in allPaths:\n",
    "    \n",
    "    #Check if the path overlaps a node\n",
    "    overlap = False\n",
    "    for node in nodes:\n",
    "        if pathOverlaps(path, node):\n",
    "            overlap = True\n",
    "    \n",
    "    if overlap:\n",
    "        continue\n",
    "    \n",
    "    #Check if the path intersects another path\n",
    "    atLeastOneIntersect = False\n",
    "    for otherPath in allPaths:\n",
    "        if path == otherPath:\n",
    "            continue\n",
    "        else:\n",
    "            intersect, x, y = pathsIntersect(path, otherPath)\n",
    "            if intersect:\n",
    "                atLeastOneIntersect = True\n",
    "                x_intersects = np.append(x_intersects, x)\n",
    "                y_intersects = np.append(y_intersects, y)\n",
    "    if atLeastOneIntersect:\n",
    "        paths = np.append(paths, path)"
   ]
  },
  {
   "cell_type": "markdown",
   "metadata": {},
   "source": [
    "### Plotting"
   ]
  },
  {
   "cell_type": "code",
   "execution_count": 89,
   "metadata": {},
   "outputs": [
    {
     "data": {
      "image/png": "[encoded data removed]",
      "text/plain": [
       "<Figure size 432x288 with 1 Axes>"
      ]
     },
     "metadata": {
      "needs_background": "light"
     },
     "output_type": "display_data"
    }
   ],
   "source": [
    "plt.figure()\n",
    "plt.title(\"Wildfire System Configuration\")\n",
    "plt.scatter(x_intersects, y_intersects)\n",
    "plt.scatter(tower_x_coords, tower_y_coords)\n",
    "\n",
    "'''\n",
    "for path in paths:\n",
    "    point1 = [path.node1.x_coord, path.node1.y_coord]\n",
    "    point2 = [path.node2.x_coord, path.node2.y_coord]\n",
    "    x = [point1[0], point2[0]]\n",
    "    y = [point1[1], point2[1]]\n",
    "    plt.plot(x, y, color=\"blue\")\n",
    "'''\n",
    "plt.show()"
   ]
  }
 ],
 "metadata": {
  "kernelspec": {
   "display_name": "Python 3.9.2 64-bit",
   "language": "python",
   "name": "python3"
  },
  "language_info": {
   "codemirror_mode": {
    "name": "ipython",
    "version": 3
   },
   "file_extension": ".py",
   "mimetype": "text/x-python",
   "name": "python",
   "nbconvert_exporter": "python",
   "pygments_lexer": "ipython3",
   "version": "3.9.2"
  },
  "orig_nbformat": 4,
  "vscode": {
   "interpreter": {
    "hash": "aee8b7b246df8f9039afb4144a1f6fd8d2ca17a180786b69acc140d282b71a49"
   }
  }
 },
 "nbformat": 4,
 "nbformat_minor": 2
}
